{
  "nbformat": 4,
  "nbformat_minor": 0,
  "metadata": {
    "colab": {
      "provenance": [],
      "authorship_tag": "ABX9TyPKx5eVlgbVEMknRRsvrIFr",
      "include_colab_link": true
    },
    "kernelspec": {
      "name": "python3",
      "display_name": "Python 3"
    },
    "language_info": {
      "name": "python"
    }
  },
  "cells": [
    {
      "cell_type": "markdown",
      "metadata": {
        "id": "view-in-github",
        "colab_type": "text"
      },
      "source": [
        "<a href=\"https://colab.research.google.com/github/enasshalolh/my_coulb_project/blob/main/SVM_vs_NaiveBayes.ipynb\" target=\"_parent\"><img src=\"https://colab.research.google.com/assets/colab-badge.svg\" alt=\"Open In Colab\"/></a>"
      ]
    },
    {
      "cell_type": "markdown",
      "source": [
        "✅ Step 1: Creating the Dataset\n",
        "\n"
      ],
      "metadata": {
        "id": "P2FOfouoY5ts"
      }
    },
    {
      "cell_type": "code",
      "execution_count": 7,
      "metadata": {
        "colab": {
          "base_uri": "https://localhost:8080/"
        },
        "id": "rCwWTGDSUbSQ",
        "outputId": "7adb5697-d78e-46c4-9c34-d826283d6f18"
      },
      "outputs": [
        {
          "output_type": "stream",
          "name": "stdout",
          "text": [
            "                                              review  label\n",
            "0  The food was delicious, and the service was ex...      1\n",
            "1  Oh wow, this place is amazing… if you love wai...      0\n",
            "2  I absolutely love this phone. The battery last...      1\n",
            "3     Best phone ever! Died after 10 minutes of use!      0\n",
            "4  Fantastic hotel! The staff was so friendly and...      1\n"
          ]
        }
      ],
      "source": [
        "import pandas as pd\n",
        "\n",
        "# تحميل البيانات من ملف CSV\n",
        "df = pd.read_csv(\"Reviews.csv\")\n",
        "\n",
        "# عرض أول 5 مراجعات\n",
        "print(df.head())\n"
      ]
    },
    {
      "cell_type": "markdown",
      "source": [
        "✅ Step 2: Converting Text to Numerical Data using TF-IDF"
      ],
      "metadata": {
        "id": "lYUNv0GEYwF4"
      }
    },
    {
      "cell_type": "code",
      "source": [
        "# استيراد المكتبات الضرورية\n",
        "import pandas as pd\n",
        "from sklearn.feature_extraction.text import TfidfVectorizer\n",
        "\n",
        "# تحميل البيانات من ملف CSV\n",
        "df = pd.read_csv(\"Reviews.csv\")\n",
        "\n",
        "# إنشاء نموذج TF-IDF\n",
        "tfidf_vectorizer = TfidfVectorizer()\n",
        "\n",
        "# تحويل النصوص إلى تمثيل رقمي\n",
        "X_tfidf = tfidf_vectorizer.fit_transform(df[\"review\"])\n",
        "\n",
        "# عرض أبعاد البيانات بعد التحويل\n",
        "print(\"TF-IDF:\", X_tfidf.shape)  # عدد المراجعات × عدد الكلمات الفريدة\n"
      ],
      "metadata": {
        "colab": {
          "base_uri": "https://localhost:8080/"
        },
        "id": "321ePYeDWzNg",
        "outputId": "53ac8871-1680-4688-de7d-506199058920"
      },
      "execution_count": 8,
      "outputs": [
        {
          "output_type": "stream",
          "name": "stdout",
          "text": [
            "TF-IDF: (25, 146)\n"
          ]
        }
      ]
    },
    {
      "cell_type": "markdown",
      "source": [
        "✅ Step 3: Splitting Data and Training Models (SVM & Naïve Bayes)\n",
        "\n",
        "\n",
        "\n"
      ],
      "metadata": {
        "id": "-LBvdUd-Yq3u"
      }
    },
    {
      "cell_type": "code",
      "source": [
        "# استيراد المكتبات اللازمة\n",
        "from sklearn.model_selection import train_test_split\n",
        "from sklearn.svm import SVC\n",
        "from sklearn.naive_bayes import MultinomialNB\n",
        "from sklearn.metrics import accuracy_score\n",
        "\n",
        "# تقسيم البيانات إلى تدريب واختبار (80% تدريب، 20% اختبار)\n",
        "X_train, X_test, y_train, y_test = train_test_split(X_tfidf, df[\"label\"], test_size=0.2, random_state=42)\n",
        "\n",
        "# إنشاء وتدريب نموذج SVM\n",
        "svm_model = SVC(kernel='linear')  # استخدام نواة خطية\n",
        "svm_model.fit(X_train, y_train)\n",
        "\n",
        "# إنشاء وتدريب نموذج Naïve Bayes\n",
        "nb_model = MultinomialNB()\n",
        "nb_model.fit(X_train, y_train)\n",
        "\n",
        "# التنبؤ على بيانات الاختبار\n",
        "y_pred_svm = svm_model.predict(X_test)\n",
        "y_pred_nb = nb_model.predict(X_test)\n",
        "\n",
        "# حساب دقة النموذجين\n",
        "accuracy_svm = accuracy_score(y_test, y_pred_svm)\n",
        "accuracy_nb = accuracy_score(y_test, y_pred_nb)\n",
        "\n",
        "# طباعة النتائج\n",
        "print(\"دقة نموذج SVM:\", accuracy_svm)\n",
        "print(\"دقة نموذج Naïve Bayes:\", accuracy_nb)\n"
      ],
      "metadata": {
        "colab": {
          "base_uri": "https://localhost:8080/"
        },
        "id": "pWpqjgPdYtrj",
        "outputId": "e638c418-fbe8-4314-aca1-70c887d5c21c"
      },
      "execution_count": 9,
      "outputs": [
        {
          "output_type": "stream",
          "name": "stdout",
          "text": [
            "دقة نموذج SVM: 0.8\n",
            "دقة نموذج Naïve Bayes: 0.8\n"
          ]
        }
      ]
    },
    {
      "cell_type": "markdown",
      "source": [
        "✅ Step 4: Testing Models and Comparing Results\n",
        "\n"
      ],
      "metadata": {
        "id": "58r9aDPqaAu6"
      }
    },
    {
      "cell_type": "code",
      "source": [
        "# إنشاء مراجعتين جديدتين (واحدة جادة وواحدة ساخرة) لاختبار النماذج\n",
        "new_reviews = [\"This restaurant has the best service and food! Highly recommended.\",\n",
        "               \"Oh wow, I just love waiting an hour to get cold food. Amazing!\"]\n",
        "\n",
        "# تحويل المراجعات الجديدة إلى نفس تمثيل TF-IDF\n",
        "X_new_tfidf = tfidf_vectorizer.transform(new_reviews)\n",
        "\n",
        "# التنبؤ باستخدام كلا النموذجين\n",
        "svm_prediction = svm_model.predict(X_new_tfidf)\n",
        "nb_prediction = nb_model.predict(X_new_tfidf)\n",
        "\n",
        "# طباعة النتائج\n",
        "print(\"SVM Prediction:\", svm_prediction)\n",
        "print(\"Naïve Bayes Prediction:\", nb_prediction)\n"
      ],
      "metadata": {
        "colab": {
          "base_uri": "https://localhost:8080/"
        },
        "id": "EAzyGsaHaDI8",
        "outputId": "ff513a6c-2669-49b9-d471-d82bda07b3cf"
      },
      "execution_count": 10,
      "outputs": [
        {
          "output_type": "stream",
          "name": "stdout",
          "text": [
            "SVM Prediction: [1 0]\n",
            "Naïve Bayes Prediction: [1 0]\n"
          ]
        }
      ]
    },
    {
      "cell_type": "markdown",
      "source": [
        "1️⃣ Did both models agree on the classification?\n",
        "✅ Yes, both SVM and Naïve Bayes predicted the same results:\n",
        "\n",
        "The first review was classified as genuine (1).\n",
        "The second review was classified as sarcastic (0).\n",
        "2️⃣ Which model had higher accuracy?\n",
        "✅ In our case, both models achieved 80% accuracy on the test dataset. So, they performed equally well.\n",
        "\n",
        "3️⃣ Which model was faster?\n",
        "✅ Naïve Bayes is generally faster than SVM, especially for large text datasets.\n",
        "\n",
        "Naïve Bayes relies on probabilistic calculations, making it computationally efficient.\n",
        "SVM, on the other hand, involves finding the optimal decision boundary, which can be slower for large datasets.\n",
        "4️⃣ When would SVM be better than Naïve Bayes and vice versa?\n",
        "✅ SVM is better when:\n",
        "\n",
        "The data is complex and non-linearly separable.\n",
        "High accuracy is more important than speed.\n",
        "The dataset is relatively small to medium-sized.\n",
        "✅ Naïve Bayes is better when:\n",
        "\n",
        "The dataset is very large (millions of reviews).\n",
        "You need fast predictions in real-time applications.\n",
        "The text follows a simple distribution, such as spam detection.\n"
      ],
      "metadata": {
        "id": "DV0e7x61bVEL"
      }
    }
  ]
}