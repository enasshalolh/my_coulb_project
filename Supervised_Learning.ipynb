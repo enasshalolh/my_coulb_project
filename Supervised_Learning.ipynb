{
  "nbformat": 4,
  "nbformat_minor": 0,
  "metadata": {
    "colab": {
      "provenance": [],
      "authorship_tag": "ABX9TyOqNAHpVXhTETXK8E1ti2/S",
      "include_colab_link": true
    },
    "kernelspec": {
      "name": "python3",
      "display_name": "Python 3"
    },
    "language_info": {
      "name": "python"
    }
  },
  "cells": [
    {
      "cell_type": "markdown",
      "metadata": {
        "id": "view-in-github",
        "colab_type": "text"
      },
      "source": [
        "<a href=\"https://colab.research.google.com/github/enasshalolh/my_coulb_project/blob/main/Supervised_Learning.ipynb\" target=\"_parent\"><img src=\"https://colab.research.google.com/assets/colab-badge.svg\" alt=\"Open In Colab\"/></a>"
      ]
    },
    {
      "cell_type": "markdown",
      "source": [
        "Step 1: Loading and Exploring the Data"
      ],
      "metadata": {
        "id": "gr0p_Kx4x74X"
      }
    },
    {
      "cell_type": "code",
      "source": [
        "import matplotlib.pyplot as plt\n",
        "import numpy as np\n",
        "from sklearn import datasets\n",
        "\n",
        "# Load the Digits Dataset\n",
        "digits = datasets.load_digits()\n",
        "\n",
        "# Display some sample images\n",
        "fig, axes = plt.subplots(2, 5, figsize=(10, 5))\n",
        "for i, ax in enumerate(axes.flat):\n",
        "    ax.imshow(digits.images[i], cmap='gray',interpolation='nearest')\n",
        "    ax.set_title(f\"Label: {digits.target[i]}\")\n",
        "    ax.axis(\"off\")\n",
        "\n",
        "plt.show()\n",
        "\n",
        "# Print dataset information\n",
        "num_samples, img_height, img_width = digits.images.shape\n",
        "num_classes = len(np.unique(digits.target))\n",
        "\n",
        "print(f\"Number of samples: {num_samples}\")\n",
        "print(f\"Image size: {img_height}x{img_width}\")\n",
        "print(f\"Number of classes: {num_classes}\")\n"
      ],
      "metadata": {
        "colab": {
          "base_uri": "https://localhost:8080/",
          "height": 454
        },
        "id": "BVnpQrI-zkL8",
        "outputId": "adde6100-10e0-4ec8-c0cd-a2b6e2b1f066"
      },
      "execution_count": 3,
      "outputs": [
        {
          "output_type": "display_data",
          "data": {
            "text/plain": [
              "<Figure size 1000x500 with 10 Axes>"
            ],
            "image/png": "[encoded data removed]"
          },
          "metadata": {}
        },
        {
          "output_type": "stream",
          "name": "stdout",
          "text": [
            "Number of samples: 1797\n",
            "Image size: 8x8\n",
            "Number of classes: 10\n"
          ]
        }
      ]
    },
    {
      "cell_type": "markdown",
      "source": [
        "Step 2: Data Preprocessing (Preparation & Splitting)\n",
        "\n",
        "\n"
      ],
      "metadata": {
        "id": "OwNfq3iaiqEe"
      }
    },
    {
      "cell_type": "code",
      "execution_count": 4,
      "metadata": {
        "colab": {
          "base_uri": "https://localhost:8080/"
        },
        "id": "l6xxrVnYa2K9",
        "outputId": "795668f1-0880-46b4-8320-b5faf0f527fe"
      },
      "outputs": [
        {
          "output_type": "stream",
          "name": "stdout",
          "text": [
            "Training data size: (1437, 64)\n",
            "Testing data size: (360, 64)\n"
          ]
        }
      ],
      "source": [
        "import pandas as pd\n",
        "from sklearn.model_selection import train_test_split\n",
        "from sklearn.preprocessing import MinMaxScaler\n",
        "\n",
        "df = pd.read_csv(\"digits_dataset.csv\")\n",
        "\n",
        "# فصل x عن y\n",
        "X = df.drop(columns=[\"label\"]).values  #\n",
        "y = df[\"label\"].values  # label => هنستخدمه كمخرج للعملية\n",
        "# تطبيع البيانات لتكون القيم بين 0 و 1\n",
        "scaler = MinMaxScaler() # يقوم بتحويل كل قيمة الى 0و1\n",
        "X = scaler.fit_transform(X)\n",
        "\n",
        "# تقسيم البيانات إلى 80% تدريب و 20% اختبار\n",
        "X_train, X_test, y_train, y_test = train_test_split(X, y, test_size=0.2, random_state=42, stratify=y)\n",
        "\n",
        "\n",
        "print(f\"Training data size: {X_train.shape}\")\n",
        "print(f\"Testing data size: {X_test.shape}\")\n",
        "\n"
      ]
    },
    {
      "cell_type": "markdown",
      "source": [
        "Step 3: Training and Comparing Machine Learning Models"
      ],
      "metadata": {
        "id": "7ZGhP9dnixQK"
      }
    },
    {
      "cell_type": "code",
      "source": [
        "from sklearn.linear_model import LogisticRegression\n",
        "from sklearn.tree import DecisionTreeClassifier\n",
        "from sklearn.neighbors import KNeighborsClassifier\n",
        "from sklearn.ensemble import RandomForestClassifier\n",
        "from sklearn.metrics import accuracy_score, confusion_matrix\n",
        "\n",
        "# تعريف النماذج\n",
        "models = {\n",
        "    \"Logistic Regression\": LogisticRegression(max_iter=2000),\n",
        "    \"Decision Tree\": DecisionTreeClassifier(),\n",
        "    \"KNN (k=5)\": KNeighborsClassifier(n_neighbors=5),\n",
        "    \"Random Forest\": RandomForestClassifier(n_estimators=100)\n",
        "}\n",
        "\n",
        "# تدريب كل نموذج وحساب الدقة\n",
        "results = {}\n",
        "for name, model in models.items(): #حلقة تمر على كل نموذج بالاسم والموديل نفسه داخل القاموس.\n",
        "\n",
        "    model.fit(X_train, y_train)  # تدريب النموذج\n",
        "    y_pred = model.predict(X_test)  # استخدام النموذج المدرب للتنبؤ بنتائج مجموعة الاختبار (X_test)\n",
        "    acc = accuracy_score(y_test, y_pred)  # مقارنة التنبؤات (y_pred) بالنتائج الحقيقية (y_test) لحساب الدقة (Accuracy)\n",
        "    results[name] = acc\n",
        "\n",
        "    # عرض confusion matrix  لكل نموذج\n",
        "    print(f\" {name} - Accuracy: {acc:.4f}\")\n",
        "    print(confusion_matrix(y_test, y_pred))\n",
        "    print(\"=\"*50)\n",
        "\n",
        "#The Best Model\n",
        "best_model = max(results, key=results.get)\n",
        "print(f\" The Best Model {best_model} accuracy  {results[best_model]:.4f}\")\n"
      ],
      "metadata": {
        "colab": {
          "base_uri": "https://localhost:8080/"
        },
        "id": "8w-9ufbaedlw",
        "outputId": "af1f52ed-7da3-4e76-e775-0f86f279364c"
      },
      "execution_count": 5,
      "outputs": [
        {
          "output_type": "stream",
          "name": "stdout",
          "text": [
            " Logistic Regression - Accuracy: 0.9583\n",
            "[[35  0  0  0  1  0  0  0  0  0]\n",
            " [ 0 30  0  1  0  1  1  0  1  2]\n",
            " [ 0  0 35  0  0  0  0  0  0  0]\n",
            " [ 0  0  0 37  0  0  0  0  0  0]\n",
            " [ 0  0  0  0 36  0  0  0  0  0]\n",
            " [ 0  0  0  0  0 37  0  0  0  0]\n",
            " [ 0  1  0  0  0  0 34  0  1  0]\n",
            " [ 0  0  0  0  0  0  0 36  0  0]\n",
            " [ 0  3  0  0  0  0  0  1 31  0]\n",
            " [ 0  0  0  0  1  0  0  0  1 34]]\n",
            "==================================================\n",
            " Decision Tree - Accuracy: 0.8222\n",
            "[[34  0  0  0  0  0  0  1  1  0]\n",
            " [ 0 25  4  3  1  0  0  1  2  0]\n",
            " [ 0  0 30  2  0  0  0  0  1  2]\n",
            " [ 0  0  1 30  0  1  0  2  1  2]\n",
            " [ 1  2  1  0 29  0  1  1  1  0]\n",
            " [ 0  0  0  0  1 36  0  0  0  0]\n",
            " [ 1  1  1  0  0  1 32  0  0  0]\n",
            " [ 0  1  1  1  2  0  0 31  0  0]\n",
            " [ 0  4  0  1  0  2  2  3 23  0]\n",
            " [ 1  0  1  2  0  1  0  3  2 26]]\n",
            "==================================================\n",
            " KNN (k=5) - Accuracy: 0.9833\n",
            "[[36  0  0  0  0  0  0  0  0  0]\n",
            " [ 0 36  0  0  0  0  0  0  0  0]\n",
            " [ 0  0 35  0  0  0  0  0  0  0]\n",
            " [ 0  0  0 37  0  0  0  0  0  0]\n",
            " [ 0  0  0  0 36  0  0  0  0  0]\n",
            " [ 0  0  0  0  0 37  0  0  0  0]\n",
            " [ 0  0  0  0  0  0 35  0  1  0]\n",
            " [ 0  0  0  0  0  0  0 36  0  0]\n",
            " [ 0  2  0  0  0  0  0  1 32  0]\n",
            " [ 0  0  0  0  1  0  0  0  1 34]]\n",
            "==================================================\n",
            " Random Forest - Accuracy: 0.9694\n",
            "[[35  0  0  0  1  0  0  0  0  0]\n",
            " [ 0 36  0  0  0  0  0  0  0  0]\n",
            " [ 0  0 35  0  0  0  0  0  0  0]\n",
            " [ 0  0  0 37  0  0  0  0  0  0]\n",
            " [ 0  1  0  0 35  0  0  0  0  0]\n",
            " [ 0  0  0  0  0 37  0  0  0  0]\n",
            " [ 0  0  0  0  0  0 35  0  1  0]\n",
            " [ 0  0  0  0  0  0  0 36  0  0]\n",
            " [ 0  3  0  0  0  0  0  2 30  0]\n",
            " [ 0  0  0  1  0  0  0  1  1 33]]\n",
            "==================================================\n",
            " The Best Model KNN (k=5) accuracy  0.9833\n"
          ]
        }
      ]
    },
    {
      "cell_type": "markdown",
      "source": [
        "Step 4: Model Improvement and Final Results\n",
        "\n",
        " Step 4.1: Hyperparameter Tuning with GridSearchCV\n"
      ],
      "metadata": {
        "id": "_QUI7YYhypwM"
      }
    },
    {
      "cell_type": "code",
      "source": [
        "from sklearn.model_selection import GridSearchCV\n",
        "\n",
        "# تحديد القيم التي نريد تجربتها لكل معامل\n",
        "param_grid = {\n",
        "    \"n_estimators\": [50, 100, 200],  # Number of trees\n",
        "    \"max_depth\": [None, 10, 20],  # Maximum tree depth\n",
        "    \"min_samples_split\": [2, 5, 10]  # Minimum samples per split\n",
        "}\n",
        "#نقوم بتحديد مجموعة من القيم المختلفة لكل معامل داخل param_grid.\n",
        "# n_estimators: سنجرب 50 و 100 و 200 شجرة ونرى أي عدد يعطي أفضل نتائج.\n",
        "# max_depth: سنجرب عدم تحديد عمق (None)، ثم تجربته عند 10 و 20 مستوى.\n",
        "# min_samples_split: سنجرب الحد الأدنى لتقسيم العقدة عند 2 و 5 و 10.\n",
        "\n",
        "\n",
        "# بدي اشوف شو افضل قيم ال (GridSearchCV)\n",
        "grid_search = GridSearchCV(RandomForestClassifier(), param_grid, cv=5, n_jobs=-1)\n",
        "grid_search.fit(X_train, y_train)\n",
        "# يقوم ال GridSearchCV بتدريب ال model  عدة مرات , كل مرة بقيم مختلفة وبختار الافضل\n",
        "\n",
        "# افضل قيم تم الحصول عليها\n",
        "print(f\"Best parameters: {grid_search.best_params_}\")\n",
        "\n",
        "# Test optimized model on test data\n",
        "best_model = grid_search.best_estimator_\n",
        "y_pred = best_model.predict(X_test)\n",
        "# نستخدم النموذج المحسن للتنبؤ بنتائج مجموعة الاختبار\n",
        "# حساب الدقة بعد التحسين\n",
        "from sklearn.metrics import classification_report\n",
        "print(\" Performance report after tuning:\")\n",
        "print(classification_report(y_test, y_pred))\n"
      ],
      "metadata": {
        "colab": {
          "base_uri": "https://localhost:8080/"
        },
        "id": "gU4r6jojyrMy",
        "outputId": "ad4149a7-267e-4172-e4f8-5d895a3935ec"
      },
      "execution_count": 6,
      "outputs": [
        {
          "output_type": "stream",
          "name": "stdout",
          "text": [
            "Best parameters: {'max_depth': 20, 'min_samples_split': 2, 'n_estimators': 200}\n",
            " Performance report after tuning:\n",
            "              precision    recall  f1-score   support\n",
            "\n",
            "           0       1.00      0.97      0.99        36\n",
            "           1       0.92      0.97      0.95        36\n",
            "           2       1.00      1.00      1.00        35\n",
            "           3       0.97      1.00      0.99        37\n",
            "           4       0.97      1.00      0.99        36\n",
            "           5       0.97      1.00      0.99        37\n",
            "           6       1.00      0.97      0.99        36\n",
            "           7       0.92      1.00      0.96        36\n",
            "           8       0.94      0.86      0.90        35\n",
            "           9       1.00      0.92      0.96        36\n",
            "\n",
            "    accuracy                           0.97       360\n",
            "   macro avg       0.97      0.97      0.97       360\n",
            "weighted avg       0.97      0.97      0.97       360\n",
            "\n"
          ]
        }
      ]
    },
    {
      "cell_type": "markdown",
      "source": [
        "# New Section\n",
        "Step 4.2: Visualizing Predictions"
      ],
      "metadata": {
        "id": "TittsKs82Vt_"
      }
    },
    {
      "cell_type": "code",
      "source": [
        "import matplotlib.pyplot as plt\n",
        "import numpy as np\n",
        "\n",
        "# اختيار random sample\n",
        "indices = np.random.choice(len(X_test), 10, replace=False)\n",
        "images = X_test[indices].reshape(-1, 8, 8)  # Reshape to 8x8 images\n",
        "true_labels = y_test[indices]\n",
        "predicted_labels = best_model.predict(X_test[indices])\n",
        "# الطلب من النموذج المحسن التنبؤ بارقام الصور المختارة\n",
        "\n",
        "# عرض الصور مع التوقعات\n",
        "fig, axes = plt.subplots(2, 5, figsize=(10, 5))\n",
        "for i, ax in enumerate(axes.flat):\n",
        "    ax.imshow(images[i], cmap=\"gray\",interpolation='nearest') #عرض الصور بالابيض والاسود\n",
        "    ax.set_title(f\"True: {true_labels[i]}\\nPred: {predicted_labels[i]}\")\n",
        "    ax.axis(\"off\")\n",
        "\n",
        "plt.show()\n"
      ],
      "metadata": {
        "colab": {
          "base_uri": "https://localhost:8080/",
          "height": 423
        },
        "id": "qYN9vBNI2X_t",
        "outputId": "91d4b5b5-b18f-4781-a823-6093fe5553af"
      },
      "execution_count": 7,
      "outputs": [
        {
          "output_type": "display_data",
          "data": {
            "text/plain": [
              "<Figure size 1000x500 with 10 Axes>"
            ],
            "image/png": "[encoded data removed]"
          },
          "metadata": {}
        }
      ]
    },
    {
      "cell_type": "markdown",
      "source": [
        "في الخطوة الاولى :\n",
        "في هذه الخطوة قمنا بتحميل مجموعة بيانات Digits من sklearn.datasets، والتي تحتوي على صور 8×8 بكسل تمثل أرقامًا مكتوبة يدويًا (من 0 إلى 9).\n",
        " عرضنا بعض الصور لمعرفة شكل البيانات بصريًا\n",
        "النتائج :\n",
        "عرض مجموعة من الصور الرمادية (الأبيض والأسود) للأرقام المكتوبة يدويًا.\n",
        "معرفة عدد الصور (num_samples) وأبعاد كل صورة (8x8 بكسل) وعدد الفئات (10 أرقام مختلفة).\n",
        "في الخطوة الثانية :\n",
        "تم تحميل البيانات من ملف digits_dataset.csv وإجراء المعالجة اللازمة:\n",
        "\n",
        "فصل الميزات X عن التسمية y.\n",
        "تطبيع البيانات باستخدام MinMaxScaler لضبط القيم بين 0 و 1.\n",
        "تقسيم البيانات إلى مجموعة تدريب (80%) واختبار (20%).\n",
        "النتائج:\n",
        "تم تطبيع البيانات لتكون القيم بين 0 و 1 لتحسين أداء النماذج.\n",
        "تقسيم البيانات إلى 80% تدريب و 20% اختبار للحفاظ على التوزيع العادل للفئات.\n",
        "في الخطوة الثالثة :\n",
        "قمنا بتجربة عدة نماذج تعلم آلي على البيانات:\n",
        "\n",
        "Logistic Regression\n",
        "Decision Tree\n",
        "K-Nearest Neighbors (KNN) مع k=5\n",
        "Random Forest مع 100 شجرة قرار.\n",
        " لكل نموذج:\n",
        "\n",
        "تم تدريبه على بيانات التدريب X_train, y_train.\n",
        "تم التنبؤ بالنتائج على X_test.\n",
        "تم حساب الدقة (accuracy) لكل نموذج.\n",
        "تم طباعة مصفوفة الارتباك (confusion matrix) لكل نموذج\n",
        "وبعد تجربة جميع النماذج، تم تحديد أفضل نموذج بناءً على الدقة (accuracy).\n",
        "\n",
        "النتائج :\n",
        "طباعة دقة كل نموذج (accuracy).\n",
        "عرض مصفوفة الارتباك (confusion matrix) لرؤية كيفية تصنيف الأرقام.\n",
        "فضل نموذج تم اختياره بناءً على أعلى دقة (accuracy).\n",
        "الخطوة الرابعة أ :\n",
        "لتحديد أفضل القيم لمعاملات Random Forest، استخدمنا GridSearchCV لتجربة العديد من القيم واختيار الأفضل.\n",
        " تم تجربة:\n",
        "\n",
        "n_estimators: عدد الأشجار (50، 100، 200).\n",
        "max_depth: أقصى عمق للشجرة (None، 10، 20).\n",
        "min_samples_split: الحد الأدنى من العينات لتقسيم العقدة (2، 5، 10).\n",
        "بعد ضبط المعاملات، تم اختبار النموذج على بيانات الاختبار (X_test).\n",
        "\n",
        "النتائج:\n",
        " لدينا أفضل معامل لنموذج Random Forest بناءً على الأداء الفعلي.\n",
        "التقرير يعرض الدقة (accuracy)، والاستدعاء (recall)، والتخصيص (precision) لكل فئة.\n",
        "\n",
        "الخطوة الرابعة ب :\n",
        "تم اختيار 10 صور عشوائية من مجموعة الاختبار وعرضها مع القيم الحقيقية والمتوقعة\n",
        "النتيجة :\n",
        "الصور تعرض القيم الحقيقية (True) والمتوقعة (Pred) لكل رقم.\n",
        "\n",
        "\n",
        "\n",
        "\n",
        "\n"
      ],
      "metadata": {
        "id": "6W6HAXKGOge3"
      }
    }
  ]
}